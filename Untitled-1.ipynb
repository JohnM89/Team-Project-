{
 "cells": [
  {
   "cell_type": "code",
   "execution_count": null,
   "metadata": {},
   "outputs": [],
   "source": [
    "<html lang=\"en\">\n",
    "<head>\n",
    "    <meta charset=\"UTF-8\">\n",
    "    <meta name=\"viewport\" content=\"width=device-width, initial-scale=1.0\">\n",
    "    <title>Student Bio</title>\n",
    "    <link rel=\"stylesheet\" href=\"styles.css\">\n",
    "</head>\n",
    "<body>\n",
    "    <header>\n",
    "        <h1>Student Bio</h1>\n",
    "    </header>\n",
    "\n",
    "    <section class=\"bio-section\">\n",
    "        <div class=\"bio-content\">\n",
    "            <img src=\"https://www.lovemeow.com/cat-kittens-rare-brown-coat-2652941612.html\" alt=\"Ahmad\">\n",
    "            <p>\n",
    "                Hello, I'm Ahmad and this is my first activity.         \n",
    "</p>\n",
    "        </div>\n",
    "    </section>\n",
    "\n",
    "    <section class=\"contact-section\">\n",
    "        <h2>Contact Info</h2>\n",
    "        <ul>\n",
    "            <li><a href=\"ahmad100@hotmail.ca\">Email</a></li>\n",
    "            <li><a href=\"https://github.com/ahmad100@hotmail.ca\">GitHub</a></li>\n",
    "        </ul>\n",
    "    </section>\n",
    "</body>\n",
    "</html>"
   ]
  },
  {
   "cell_type": "markdown",
   "metadata": {},
   "source": []
  }
 ],
 "metadata": {
  "language_info": {
   "name": "python"
  },
  "orig_nbformat": 4
 },
 "nbformat": 4,
 "nbformat_minor": 2
}
